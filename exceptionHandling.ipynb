{
 "cells": [
  {
   "cell_type": "code",
   "execution_count": 2,
   "metadata": {},
   "outputs": [],
   "source": [
    "def add(n1, n2):\n",
    "    print(n1+n2)"
   ]
  },
  {
   "cell_type": "code",
   "execution_count": 3,
   "metadata": {},
   "outputs": [
    {
     "name": "stdout",
     "output_type": "stream",
     "text": [
      "30\n"
     ]
    }
   ],
   "source": [
    "add(10,20)"
   ]
  },
  {
   "cell_type": "code",
   "execution_count": 7,
   "metadata": {},
   "outputs": [],
   "source": [
    "number1 = 10"
   ]
  },
  {
   "cell_type": "code",
   "execution_count": 8,
   "metadata": {},
   "outputs": [],
   "source": [
    "number2 = input('Please provide a number: ')"
   ]
  },
  {
   "cell_type": "code",
   "execution_count": 9,
   "metadata": {},
   "outputs": [
    {
     "ename": "TypeError",
     "evalue": "unsupported operand type(s) for +: 'int' and 'str'",
     "output_type": "error",
     "traceback": [
      "\u001b[0;31m---------------------------------------------------------------------------\u001b[0m",
      "\u001b[0;31mTypeError\u001b[0m                                 Traceback (most recent call last)",
      "Cell \u001b[0;32mIn[9], line 1\u001b[0m\n\u001b[0;32m----> 1\u001b[0m add(number1,number2)\n",
      "Cell \u001b[0;32mIn[2], line 2\u001b[0m, in \u001b[0;36madd\u001b[0;34m(n1, n2)\u001b[0m\n\u001b[1;32m      1\u001b[0m \u001b[39mdef\u001b[39;00m \u001b[39madd\u001b[39m(n1, n2):\n\u001b[0;32m----> 2\u001b[0m     \u001b[39mprint\u001b[39m(n1\u001b[39m+\u001b[39;49mn2)\n",
      "\u001b[0;31mTypeError\u001b[0m: unsupported operand type(s) for +: 'int' and 'str'"
     ]
    }
   ],
   "source": [
    "add(number1,number2)"
   ]
  },
  {
   "cell_type": "code",
   "execution_count": 14,
   "metadata": {},
   "outputs": [
    {
     "name": "stdout",
     "output_type": "stream",
     "text": [
      "add went well\n",
      "20\n"
     ]
    }
   ],
   "source": [
    "try:\n",
    "    result = 10 + 10\n",
    "except: \n",
    "    print(\"Hey it looks like youre not adding correctly\")\n",
    "else:\n",
    "    print('add went well')\n",
    "    print(result)"
   ]
  },
  {
   "cell_type": "code",
   "execution_count": null,
   "metadata": {},
   "outputs": [],
   "source": []
  },
  {
   "cell_type": "code",
   "execution_count": null,
   "metadata": {},
   "outputs": [],
   "source": []
  },
  {
   "cell_type": "code",
   "execution_count": null,
   "metadata": {},
   "outputs": [],
   "source": []
  },
  {
   "cell_type": "code",
   "execution_count": 16,
   "metadata": {},
   "outputs": [
    {
     "name": "stdout",
     "output_type": "stream",
     "text": [
      "there was an os error\n",
      "i always run\n"
     ]
    }
   ],
   "source": [
    "try: \n",
    "    f= open('testfile', 'r')\n",
    "    f.write('Write a testline')\n",
    "except TypeError: \n",
    "    print('There was a type error')\n",
    "except OSError: \n",
    "    print('there was an os error')\n",
    "finally:\n",
    "    print('i always run')"
   ]
  },
  {
   "cell_type": "code",
   "execution_count": 21,
   "metadata": {},
   "outputs": [],
   "source": [
    "def ask_for_int():\n",
    "    while True:\n",
    "        try:\n",
    "            result = int(input((\"Please provide number\")))\n",
    "        except: \n",
    "            print('Whoops! that is not a number')\n",
    "            continue\n",
    "        else: \n",
    "            break\n",
    "        finally:\n",
    "            print('End of try/except/finally')\n",
    "            print('I will always run at the end')"
   ]
  },
  {
   "cell_type": "code",
   "execution_count": 22,
   "metadata": {},
   "outputs": [
    {
     "name": "stdout",
     "output_type": "stream",
     "text": [
      "Whoops! that is not a number\n",
      "End of try/except/finally\n",
      "I will always run at the end\n",
      "Whoops! that is not a number\n",
      "End of try/except/finally\n",
      "I will always run at the end\n",
      "Whoops! that is not a number\n",
      "End of try/except/finally\n",
      "I will always run at the end\n",
      "Whoops! that is not a number\n",
      "End of try/except/finally\n",
      "I will always run at the end\n",
      "End of try/except/finally\n",
      "I will always run at the end\n"
     ]
    }
   ],
   "source": [
    "ask_for_int()"
   ]
  },
  {
   "cell_type": "code",
   "execution_count": null,
   "metadata": {},
   "outputs": [],
   "source": []
  }
 ],
 "metadata": {
  "kernelspec": {
   "display_name": "Python 3",
   "language": "python",
   "name": "python3"
  },
  "language_info": {
   "codemirror_mode": {
    "name": "ipython",
    "version": 3
   },
   "file_extension": ".py",
   "mimetype": "text/x-python",
   "name": "python",
   "nbconvert_exporter": "python",
   "pygments_lexer": "ipython3",
   "version": "3.9.6"
  },
  "orig_nbformat": 4
 },
 "nbformat": 4,
 "nbformat_minor": 2
}
